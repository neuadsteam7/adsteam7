{
 "cells": [
  {
   "cell_type": "code",
   "execution_count": 3,
   "metadata": {
    "collapsed": true
   },
   "outputs": [],
   "source": [
    "import os\n",
    "import numpy as np\n",
    "from concurrent.futures import ProcessPoolExecutor, as_completed\n",
    "import skimage.io\n",
    "import selectivesearch"
   ]
  },
  {
   "cell_type": "code",
   "execution_count": 10,
   "metadata": {},
   "outputs": [
    {
     "name": "stdout",
     "output_type": "stream",
     "text": [
      "train_annotation: 2\n"
     ]
    }
   ],
   "source": [
    "CLASS_NAME = [\n",
    "    'Adidas', 'Apple', 'BMW', 'Citroen', 'Cocacola', 'DHL', 'Fedex', 'Ferrari',\n",
    "    'Ford', 'Google', 'HP', 'Heineken', 'Intel', 'McDonalds', 'Mini', 'Nbc',\n",
    "    'Nike', 'Pepsi', 'Porsche', 'Puma', 'RedBull', 'Sprite', 'Starbucks',\n",
    "    'Texaco', 'Unicef', 'Vodafone', 'Yahoo', 'Background'\n",
    "]\n",
    "annot_train = np.loadtxt(os.path.join('flickr_logos_27_dataset', 'flickr_logos_27_dataset_training_set_annotation.txt'), dtype='a')\n",
    "print('train_annotation: {}'.format(annot_train.shape[0]))"
   ]
  },
  {
   "cell_type": "code",
   "execution_count": 15,
   "metadata": {
    "collapsed": true
   },
   "outputs": [],
   "source": [
    "def parse_annot(annot):\n",
    "    fn = annot[0].decode('utf-8')\n",
    "    class_name = annot[1].decode('utf-8')\n",
    "    train_subset_class = annot[2].decode('utf-8')\n",
    "    return fn, class_name, train_subset_class\n",
    "\n",
    "\n",
    "def iou(obj_proposal, annot_rect):\n",
    "    \"\"\"\n",
    "\n",
    "    Arguments:\n",
    "    obj_proposals -- rectangles of object proposals with coordinates (x, y, w, h)\n",
    "    annot_rect -- rectangle of ground truth with coordinates (x1, y1, x2, y2)\n",
    "    \"\"\"\n",
    "    xi1 = max(obj_proposal[0], annot_rect[0])\n",
    "    yi1 = max(obj_proposal[1], annot_rect[1])\n",
    "    xi2 = min(obj_proposal[0] + obj_proposal[2], annot_rect[2])\n",
    "    yi2 = min(obj_proposal[1] + obj_proposal[3], annot_rect[3])\n",
    "    inter_area = (yi2 - yi1) * (xi2 - xi1)\n",
    "\n",
    "    # Calculate the union area by using formula: union(A, B) = A + B - inter_area\n",
    "    box1_area = obj_proposal[2] * obj_proposal[3]\n",
    "    box2_area = (annot_rect[2] - annot_rect[0]) * (\n",
    "        annot_rect[3] - annot_rect[1])\n",
    "    union_area = box1_area + box2_area - inter_area\n",
    "\n",
    "    # Compute the IoU\n",
    "    iou = inter_area / union_area\n",
    "\n",
    "    return iou\n",
    "\n",
    "def get_bg_proposals(object_proposals, annot):\n",
    "    annot_rect = np.array(list(map(lambda x: int(x), annot[3:])))\n",
    "    bg_proposals = []\n",
    "    for obj_proposal in object_proposals:\n",
    "        if iou(obj_proposal, annot_rect) <= 0.5:\n",
    "            bg_proposals.append(obj_proposal)\n",
    "    return bg_proposals\n",
    "\n",
    "def get_object_proposals(img, scale=500, sigma=0.9, min_size=10):\n",
    "    # Selective search\n",
    "    img_lbl, regions = selectivesearch.selective_search(\n",
    "        img, scale=scale, sigma=sigma, min_size=min_size)\n",
    "\n",
    "    candidates = set()\n",
    "    for r in regions:\n",
    "        # excluding same rectangle (with different segments)\n",
    "        if r['rect'] in candidates:\n",
    "            continue\n",
    "        # excluding regions smaller than 500 pixels\n",
    "        x, y, w, h = r['rect']\n",
    "        if r['size'] < 2000 or w > 0.95 * img.shape[1] or h > 0.95 * img.shape[0]:\n",
    "            continue\n",
    "        # excluding the zero-width or zero-height box\n",
    "        if r['rect'][2] == 0 or r['rect'][3] == 0:\n",
    "            continue\n",
    "        # distorted rects\n",
    "        if w / h > 5 or h / w > 5:\n",
    "            continue\n",
    "        candidates.add(r['rect'])\n",
    "\n",
    "    return candidates\n",
    "\n",
    "def gen_annot_file_line(img_fn, class_name, train_subset_class, rect):\n",
    "    rect = ' '.join(map(str, rect))\n",
    "    line = ' '.join([img_fn, class_name, train_subset_class, rect])\n",
    "    return line\n",
    "\n",
    "\n",
    "def gen_annot_file_lines(annot):\n",
    "    lines = []\n",
    "    # Get original annot line\n",
    "    img_fn, class_name, train_subset_class = parse_annot(annot)\n",
    "    annot_rect = np.array(list(map(lambda x: int(x), annot[3:])))\n",
    "    lines.append(\n",
    "        gen_annot_file_line(img_fn, class_name, train_subset_class,\n",
    "                            annot_rect))\n",
    "\n",
    "    # Load image\n",
    "#     img = skimage.io.imread(os.path.join(os.path.join('flickr_logos_27_dataset', 'flickr_logos_27_dataset_images'), img_fn))\n",
    "\n",
    "#     # Selective search\n",
    "#     object_proposals = get_object_proposals(img)\n",
    "#     if len(object_proposals) == 0:\n",
    "#         return lines\n",
    "\n",
    "#     # Background proposals\n",
    "#     bg_proposals = get_bg_proposals(object_proposals, annot)\n",
    "#     if len(bg_proposals) == 0:\n",
    "#         return lines\n",
    "\n",
    "#     # Select bg proposal\n",
    "#     bg_proposal = bg_proposals[np.random.choice(\n",
    "#         np.array(bg_proposals).shape[0])]\n",
    "#     x1, y1, x2, y2 = bg_proposal[0], bg_proposal[\n",
    "#         1], bg_proposal[0] + bg_proposal[2], bg_proposal[1] + bg_proposal[3]\n",
    "#     lines.append(\n",
    "#         gen_annot_file_line(img_fn, CLASS_NAME[-1], train_subset_class,\n",
    "#                             [x1, y1, x2, y2]))\n",
    "\n",
    "    print(lines)\n",
    "    return lines"
   ]
  },
  {
   "cell_type": "code",
   "execution_count": 16,
   "metadata": {},
   "outputs": [
    {
     "name": "stdout",
     "output_type": "stream",
     "text": [
      "['144503924.jpg Adidas 1 38 12 234 142']\n",
      "['2451569770.jpg Adidas 1 242 208 413 331']\n"
     ]
    },
    {
     "ename": "TypeError",
     "evalue": "'list' object is not callable",
     "output_type": "error",
     "traceback": [
      "\u001b[1;31m---------------------------------------------------------------------------\u001b[0m",
      "\u001b[1;31m_RemoteTraceback\u001b[0m                          Traceback (most recent call last)",
      "\u001b[1;31m_RemoteTraceback\u001b[0m: \n\"\"\"\nTraceback (most recent call last):\n  File \"C:\\Users\\gaurang\\Anaconda3\\lib\\concurrent\\futures\\process.py\", line 175, in _process_worker\n    r = call_item.fn(*call_item.args, **call_item.kwargs)\nTypeError: 'list' object is not callable\n\"\"\"",
      "\nThe above exception was the direct cause of the following exception:\n",
      "\u001b[1;31mTypeError\u001b[0m                                 Traceback (most recent call last)",
      "\u001b[1;32m<ipython-input-16-531425bbd9a7>\u001b[0m in \u001b[0;36m<module>\u001b[1;34m()\u001b[0m\n\u001b[0;32m      5\u001b[0m         \u001b[0mfutures_all\u001b[0m\u001b[1;33m.\u001b[0m\u001b[0mappend\u001b[0m\u001b[1;33m(\u001b[0m\u001b[0mexecuter\u001b[0m\u001b[1;33m.\u001b[0m\u001b[0msubmit\u001b[0m\u001b[1;33m(\u001b[0m\u001b[0mgen_annot_file_lines\u001b[0m\u001b[1;33m(\u001b[0m\u001b[0mannot\u001b[0m\u001b[1;33m)\u001b[0m\u001b[1;33m)\u001b[0m\u001b[1;33m)\u001b[0m\u001b[1;33m\u001b[0m\u001b[0m\n\u001b[0;32m      6\u001b[0m     \u001b[1;32mfor\u001b[0m \u001b[0mfuture_one\u001b[0m \u001b[1;32min\u001b[0m \u001b[0mas_completed\u001b[0m\u001b[1;33m(\u001b[0m\u001b[0mfutures_all\u001b[0m\u001b[1;33m)\u001b[0m\u001b[1;33m:\u001b[0m\u001b[1;33m\u001b[0m\u001b[0m\n\u001b[1;32m----> 7\u001b[1;33m         \u001b[0mprint\u001b[0m\u001b[1;33m(\u001b[0m\u001b[1;34m'\\n'\u001b[0m\u001b[1;33m.\u001b[0m\u001b[0mjoin\u001b[0m\u001b[1;33m(\u001b[0m\u001b[0mfuture_one\u001b[0m\u001b[1;33m.\u001b[0m\u001b[0mresult\u001b[0m\u001b[1;33m(\u001b[0m\u001b[1;33m)\u001b[0m\u001b[1;33m)\u001b[0m\u001b[1;33m)\u001b[0m\u001b[1;33m\u001b[0m\u001b[0m\n\u001b[0m\u001b[0;32m      8\u001b[0m         \u001b[0mfw\u001b[0m\u001b[1;33m.\u001b[0m\u001b[0mwritelines\u001b[0m\u001b[1;33m(\u001b[0m\u001b[1;34m'\\n'\u001b[0m\u001b[1;33m.\u001b[0m\u001b[0mjoin\u001b[0m\u001b[1;33m(\u001b[0m\u001b[0mfuture_one\u001b[0m\u001b[1;33m.\u001b[0m\u001b[0mresult\u001b[0m\u001b[1;33m(\u001b[0m\u001b[1;33m)\u001b[0m\u001b[1;33m)\u001b[0m\u001b[1;33m)\u001b[0m\u001b[1;33m\u001b[0m\u001b[0m\n\u001b[0;32m      9\u001b[0m         \u001b[0mfw\u001b[0m\u001b[1;33m.\u001b[0m\u001b[0mwritelines\u001b[0m\u001b[1;33m(\u001b[0m\u001b[1;34m'\\n'\u001b[0m\u001b[1;33m)\u001b[0m\u001b[1;33m\u001b[0m\u001b[0m\n",
      "\u001b[1;32m~\\Anaconda3\\lib\\concurrent\\futures\\_base.py\u001b[0m in \u001b[0;36mresult\u001b[1;34m(self, timeout)\u001b[0m\n\u001b[0;32m    423\u001b[0m                 \u001b[1;32mraise\u001b[0m \u001b[0mCancelledError\u001b[0m\u001b[1;33m(\u001b[0m\u001b[1;33m)\u001b[0m\u001b[1;33m\u001b[0m\u001b[0m\n\u001b[0;32m    424\u001b[0m             \u001b[1;32melif\u001b[0m \u001b[0mself\u001b[0m\u001b[1;33m.\u001b[0m\u001b[0m_state\u001b[0m \u001b[1;33m==\u001b[0m \u001b[0mFINISHED\u001b[0m\u001b[1;33m:\u001b[0m\u001b[1;33m\u001b[0m\u001b[0m\n\u001b[1;32m--> 425\u001b[1;33m                 \u001b[1;32mreturn\u001b[0m \u001b[0mself\u001b[0m\u001b[1;33m.\u001b[0m\u001b[0m__get_result\u001b[0m\u001b[1;33m(\u001b[0m\u001b[1;33m)\u001b[0m\u001b[1;33m\u001b[0m\u001b[0m\n\u001b[0m\u001b[0;32m    426\u001b[0m \u001b[1;33m\u001b[0m\u001b[0m\n\u001b[0;32m    427\u001b[0m             \u001b[0mself\u001b[0m\u001b[1;33m.\u001b[0m\u001b[0m_condition\u001b[0m\u001b[1;33m.\u001b[0m\u001b[0mwait\u001b[0m\u001b[1;33m(\u001b[0m\u001b[0mtimeout\u001b[0m\u001b[1;33m)\u001b[0m\u001b[1;33m\u001b[0m\u001b[0m\n",
      "\u001b[1;32m~\\Anaconda3\\lib\\concurrent\\futures\\_base.py\u001b[0m in \u001b[0;36m__get_result\u001b[1;34m(self)\u001b[0m\n\u001b[0;32m    382\u001b[0m     \u001b[1;32mdef\u001b[0m \u001b[0m__get_result\u001b[0m\u001b[1;33m(\u001b[0m\u001b[0mself\u001b[0m\u001b[1;33m)\u001b[0m\u001b[1;33m:\u001b[0m\u001b[1;33m\u001b[0m\u001b[0m\n\u001b[0;32m    383\u001b[0m         \u001b[1;32mif\u001b[0m \u001b[0mself\u001b[0m\u001b[1;33m.\u001b[0m\u001b[0m_exception\u001b[0m\u001b[1;33m:\u001b[0m\u001b[1;33m\u001b[0m\u001b[0m\n\u001b[1;32m--> 384\u001b[1;33m             \u001b[1;32mraise\u001b[0m \u001b[0mself\u001b[0m\u001b[1;33m.\u001b[0m\u001b[0m_exception\u001b[0m\u001b[1;33m\u001b[0m\u001b[0m\n\u001b[0m\u001b[0;32m    385\u001b[0m         \u001b[1;32melse\u001b[0m\u001b[1;33m:\u001b[0m\u001b[1;33m\u001b[0m\u001b[0m\n\u001b[0;32m    386\u001b[0m             \u001b[1;32mreturn\u001b[0m \u001b[0mself\u001b[0m\u001b[1;33m.\u001b[0m\u001b[0m_result\u001b[0m\u001b[1;33m\u001b[0m\u001b[0m\n",
      "\u001b[1;31mTypeError\u001b[0m: 'list' object is not callable"
     ]
    }
   ],
   "source": [
    "futures_all = []\n",
    "n_workers = os.cpu_count()\n",
    "with ProcessPoolExecutor(n_workers) as executer, open(os.path.join('flickr_logos_27_dataset', 'train_annot_with_bg_class.txt'), 'w') as fw:\n",
    "    for annot in annot_train:\n",
    "        futures_all.append(executer.submit(gen_annot_file_lines(annot)))\n",
    "    for future_one in as_completed(futures_all):\n",
    "        print('\\n'.join(future_one.result()))\n",
    "        fw.writelines('\\n'.join(future_one.result()))\n",
    "        fw.writelines('\\n')"
   ]
  },
  {
   "cell_type": "code",
   "execution_count": 15,
   "metadata": {},
   "outputs": [
    {
     "data": {
      "text/plain": [
       "array([[b'144503924.jpg', b'Adidas', b'1', ..., b'12', b'234', b'142'],\n",
       "       [b'2451569770.jpg', b'Adidas', b'1', ..., b'208', b'413', b'331'],\n",
       "       [b'390321909.jpg', b'Adidas', b'1', ..., b'5', b'89', b'60'],\n",
       "       ...,\n",
       "       [b'2472817996.jpg', b'Yahoo', b'6', ..., b'4', b'499', b'106'],\n",
       "       [b'2514220918.jpg', b'Yahoo', b'6', ..., b'69', b'342', b'157'],\n",
       "       [b'386891249.jpg', b'Yahoo', b'6', ..., b'10', b'310', b'49']],\n",
       "      dtype='|S14')"
      ]
     },
     "execution_count": 15,
     "metadata": {},
     "output_type": "execute_result"
    }
   ],
   "source": [
    "annot_train"
   ]
  },
  {
   "cell_type": "code",
   "execution_count": 2,
   "metadata": {},
   "outputs": [
    {
     "name": "stdout",
     "output_type": "stream",
     "text": [
      "Requirement already satisfied: keras in c:\\users\\gaurang\\anaconda3\\lib\\site-packages (2.1.5)\n",
      "Requirement already satisfied: numpy>=1.9.1 in c:\\users\\gaurang\\anaconda3\\lib\\site-packages (from keras) (1.14.2)\n",
      "Requirement already satisfied: pyyaml in c:\\users\\gaurang\\anaconda3\\lib\\site-packages (from keras) (3.12)\n",
      "Requirement already satisfied: six>=1.9.0 in c:\\users\\gaurang\\anaconda3\\lib\\site-packages (from keras) (1.11.0)\n",
      "Requirement already satisfied: scipy>=0.14 in c:\\users\\gaurang\\anaconda3\\lib\\site-packages (from keras) (0.19.1)\n"
     ]
    }
   ],
   "source": []
  },
  {
   "cell_type": "code",
   "execution_count": null,
   "metadata": {
    "collapsed": true
   },
   "outputs": [],
   "source": []
  }
 ],
 "metadata": {
  "kernelspec": {
   "display_name": "Python 3",
   "language": "python",
   "name": "python3"
  },
  "language_info": {
   "codemirror_mode": {
    "name": "ipython",
    "version": 3
   },
   "file_extension": ".py",
   "mimetype": "text/x-python",
   "name": "python",
   "nbconvert_exporter": "python",
   "pygments_lexer": "ipython3",
   "version": "3.6.3"
  }
 },
 "nbformat": 4,
 "nbformat_minor": 2
}
